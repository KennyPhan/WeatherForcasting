{
 "cells": [
  {
   "cell_type": "markdown",
   "id": "fd91f6a9",
   "metadata": {},
   "source": [
    "# Los Angeles, LAX Airport\n",
    "NOAA GHCN Data: https://www.ncei.noaa.gov/cdo-web/datasets"
   ]
  },
  {
   "cell_type": "code",
   "execution_count": 1,
   "id": "2c422868",
   "metadata": {},
   "outputs": [],
   "source": [
    "import pandas as pd\n",
    "import numpy as np"
   ]
  },
  {
   "cell_type": "code",
   "execution_count": 2,
   "id": "28d19419",
   "metadata": {},
   "outputs": [],
   "source": [
    "weather=pd.read_csv(\"LAX_40.csv\")\n",
    "weather['DATE']= pd.to_datetime(weather['DATE'])\n",
    "weather.set_index([\"DATE\"],inplace=True)\n",
    "weather = weather.loc['1993-01-01':'2023-09-23']"
   ]
  },
  {
   "cell_type": "code",
   "execution_count": 3,
   "id": "17b5b49f",
   "metadata": {},
   "outputs": [
    {
     "data": {
      "text/plain": [
       "AWND       4\n",
       "PRCP       0\n",
       "SNOW    9582\n",
       "SNWD    8913\n",
       "TMAX       0\n",
       "TMIN       0\n",
       "dtype: int64"
      ]
     },
     "execution_count": 3,
     "metadata": {},
     "output_type": "execute_result"
    }
   ],
   "source": [
    "# The documention details the core weather variables. (These variables have the lowest null values.)\n",
    "df = weather[[\"AWND\",\"PRCP\", \"SNOW\", \"SNWD\", \"TMAX\", \"TMIN\"]]\n",
    "df.apply(pd.isnull).sum()"
   ]
  },
  {
   "cell_type": "markdown",
   "id": "7e24d296",
   "metadata": {},
   "source": [
    "# AWND"
   ]
  },
  {
   "cell_type": "code",
   "execution_count": 4,
   "id": "1f24ca28",
   "metadata": {},
   "outputs": [
    {
     "name": "stdout",
     "output_type": "stream",
     "text": [
      "          AWND  Number\n",
      "0          0-1       1\n",
      "1          2-5       1\n",
      "2  6 and above       0\n"
     ]
    },
    {
     "name": "stderr",
     "output_type": "stream",
     "text": [
      "/var/folders/f3/567zc1c91t7dv2rxdqfm1zkxrcmrzx/T/ipykernel_56925/442758383.py:5: FutureWarning: The default of observed=False is deprecated and will be changed to True in a future version of pandas. Pass observed=False to retain current behavior or observed=True to adopt the future default and silence this warning.\n",
      "  out = b.groupby(b).size().reset_index(name='Number')\n"
     ]
    }
   ],
   "source": [
    "w = df.AWND.isna().groupby(df.AWND.notna().cumsum()).sum()\n",
    "w = w[w!=0]\n",
    "\n",
    "b = pd.cut(w, bins=[0, 1, 5, np.inf], labels=['0-1','2-5','6 and above'])\n",
    "out = b.groupby(b).size().reset_index(name='Number')\n",
    "print (out)"
   ]
  },
  {
   "cell_type": "code",
   "execution_count": 5,
   "id": "b0e5664b",
   "metadata": {},
   "outputs": [
    {
     "data": {
      "text/plain": [
       "DATE\n",
       "1997-03-01    1\n",
       "1997-03-02    2\n",
       "1997-03-03    3\n",
       "2023-09-23    1\n",
       "Name: AWND, dtype: int64"
      ]
     },
     "execution_count": 5,
     "metadata": {},
     "output_type": "execute_result"
    }
   ],
   "source": [
    "w = df.AWND.isna().groupby(df.AWND.notna().cumsum()).cumsum() #cumsum for index location\n",
    "w = w[w!=0]\n",
    "w"
   ]
  },
  {
   "cell_type": "code",
   "execution_count": 6,
   "id": "ea9854a2",
   "metadata": {},
   "outputs": [
    {
     "data": {
      "text/html": [
       "<div>\n",
       "<style scoped>\n",
       "    .dataframe tbody tr th:only-of-type {\n",
       "        vertical-align: middle;\n",
       "    }\n",
       "\n",
       "    .dataframe tbody tr th {\n",
       "        vertical-align: top;\n",
       "    }\n",
       "\n",
       "    .dataframe thead th {\n",
       "        text-align: right;\n",
       "    }\n",
       "</style>\n",
       "<table border=\"1\" class=\"dataframe\">\n",
       "  <thead>\n",
       "    <tr style=\"text-align: right;\">\n",
       "      <th></th>\n",
       "      <th>AWND</th>\n",
       "      <th>PRCP</th>\n",
       "      <th>SNOW</th>\n",
       "      <th>SNWD</th>\n",
       "      <th>TMAX</th>\n",
       "      <th>TMIN</th>\n",
       "    </tr>\n",
       "    <tr>\n",
       "      <th>DATE</th>\n",
       "      <th></th>\n",
       "      <th></th>\n",
       "      <th></th>\n",
       "      <th></th>\n",
       "      <th></th>\n",
       "      <th></th>\n",
       "    </tr>\n",
       "  </thead>\n",
       "  <tbody>\n",
       "    <tr>\n",
       "      <th>1997-02-28</th>\n",
       "      <td>14.32</td>\n",
       "      <td>0.0</td>\n",
       "      <td>0.0</td>\n",
       "      <td>0.0</td>\n",
       "      <td>65</td>\n",
       "      <td>48</td>\n",
       "    </tr>\n",
       "    <tr>\n",
       "      <th>1997-03-01</th>\n",
       "      <td>NaN</td>\n",
       "      <td>0.0</td>\n",
       "      <td>NaN</td>\n",
       "      <td>0.0</td>\n",
       "      <td>64</td>\n",
       "      <td>46</td>\n",
       "    </tr>\n",
       "    <tr>\n",
       "      <th>1997-03-02</th>\n",
       "      <td>NaN</td>\n",
       "      <td>0.0</td>\n",
       "      <td>NaN</td>\n",
       "      <td>0.0</td>\n",
       "      <td>60</td>\n",
       "      <td>45</td>\n",
       "    </tr>\n",
       "    <tr>\n",
       "      <th>1997-03-03</th>\n",
       "      <td>NaN</td>\n",
       "      <td>0.0</td>\n",
       "      <td>NaN</td>\n",
       "      <td>0.0</td>\n",
       "      <td>59</td>\n",
       "      <td>47</td>\n",
       "    </tr>\n",
       "    <tr>\n",
       "      <th>1997-03-04</th>\n",
       "      <td>6.71</td>\n",
       "      <td>0.0</td>\n",
       "      <td>NaN</td>\n",
       "      <td>0.0</td>\n",
       "      <td>65</td>\n",
       "      <td>47</td>\n",
       "    </tr>\n",
       "  </tbody>\n",
       "</table>\n",
       "</div>"
      ],
      "text/plain": [
       "             AWND  PRCP  SNOW  SNWD  TMAX  TMIN\n",
       "DATE                                           \n",
       "1997-02-28  14.32   0.0   0.0   0.0    65    48\n",
       "1997-03-01    NaN   0.0   NaN   0.0    64    46\n",
       "1997-03-02    NaN   0.0   NaN   0.0    60    45\n",
       "1997-03-03    NaN   0.0   NaN   0.0    59    47\n",
       "1997-03-04   6.71   0.0   NaN   0.0    65    47"
      ]
     },
     "execution_count": 6,
     "metadata": {},
     "output_type": "execute_result"
    }
   ],
   "source": [
    "filtered_df = df.loc['1997-02-28':'1997-03-04']\n",
    "filtered_df"
   ]
  },
  {
   "cell_type": "code",
   "execution_count": 7,
   "id": "f57902e6",
   "metadata": {},
   "outputs": [],
   "source": [
    "df.loc[df['AWND'].isnull(),'AWND']=df['AWND'].interpolate()"
   ]
  },
  {
   "cell_type": "code",
   "execution_count": 8,
   "id": "46566c05",
   "metadata": {},
   "outputs": [
    {
     "data": {
      "text/html": [
       "<div>\n",
       "<style scoped>\n",
       "    .dataframe tbody tr th:only-of-type {\n",
       "        vertical-align: middle;\n",
       "    }\n",
       "\n",
       "    .dataframe tbody tr th {\n",
       "        vertical-align: top;\n",
       "    }\n",
       "\n",
       "    .dataframe thead th {\n",
       "        text-align: right;\n",
       "    }\n",
       "</style>\n",
       "<table border=\"1\" class=\"dataframe\">\n",
       "  <thead>\n",
       "    <tr style=\"text-align: right;\">\n",
       "      <th></th>\n",
       "      <th>AWND</th>\n",
       "      <th>PRCP</th>\n",
       "      <th>SNOW</th>\n",
       "      <th>SNWD</th>\n",
       "      <th>TMAX</th>\n",
       "      <th>TMIN</th>\n",
       "    </tr>\n",
       "    <tr>\n",
       "      <th>DATE</th>\n",
       "      <th></th>\n",
       "      <th></th>\n",
       "      <th></th>\n",
       "      <th></th>\n",
       "      <th></th>\n",
       "      <th></th>\n",
       "    </tr>\n",
       "  </thead>\n",
       "  <tbody>\n",
       "    <tr>\n",
       "      <th>1997-02-28</th>\n",
       "      <td>14.3200</td>\n",
       "      <td>0.0</td>\n",
       "      <td>0.0</td>\n",
       "      <td>0.0</td>\n",
       "      <td>65</td>\n",
       "      <td>48</td>\n",
       "    </tr>\n",
       "    <tr>\n",
       "      <th>1997-03-01</th>\n",
       "      <td>12.4175</td>\n",
       "      <td>0.0</td>\n",
       "      <td>NaN</td>\n",
       "      <td>0.0</td>\n",
       "      <td>64</td>\n",
       "      <td>46</td>\n",
       "    </tr>\n",
       "    <tr>\n",
       "      <th>1997-03-02</th>\n",
       "      <td>10.5150</td>\n",
       "      <td>0.0</td>\n",
       "      <td>NaN</td>\n",
       "      <td>0.0</td>\n",
       "      <td>60</td>\n",
       "      <td>45</td>\n",
       "    </tr>\n",
       "    <tr>\n",
       "      <th>1997-03-03</th>\n",
       "      <td>8.6125</td>\n",
       "      <td>0.0</td>\n",
       "      <td>NaN</td>\n",
       "      <td>0.0</td>\n",
       "      <td>59</td>\n",
       "      <td>47</td>\n",
       "    </tr>\n",
       "    <tr>\n",
       "      <th>1997-03-04</th>\n",
       "      <td>6.7100</td>\n",
       "      <td>0.0</td>\n",
       "      <td>NaN</td>\n",
       "      <td>0.0</td>\n",
       "      <td>65</td>\n",
       "      <td>47</td>\n",
       "    </tr>\n",
       "  </tbody>\n",
       "</table>\n",
       "</div>"
      ],
      "text/plain": [
       "               AWND  PRCP  SNOW  SNWD  TMAX  TMIN\n",
       "DATE                                             \n",
       "1997-02-28  14.3200   0.0   0.0   0.0    65    48\n",
       "1997-03-01  12.4175   0.0   NaN   0.0    64    46\n",
       "1997-03-02  10.5150   0.0   NaN   0.0    60    45\n",
       "1997-03-03   8.6125   0.0   NaN   0.0    59    47\n",
       "1997-03-04   6.7100   0.0   NaN   0.0    65    47"
      ]
     },
     "execution_count": 8,
     "metadata": {},
     "output_type": "execute_result"
    }
   ],
   "source": [
    "filtered_df = df.loc['1997-02-28':'1997-03-04']\n",
    "filtered_df"
   ]
  },
  {
   "cell_type": "code",
   "execution_count": 9,
   "id": "f61b3b2f",
   "metadata": {},
   "outputs": [
    {
     "data": {
      "text/plain": [
       "AWND       0\n",
       "PRCP       0\n",
       "SNOW    9582\n",
       "SNWD    8913\n",
       "TMAX       0\n",
       "TMIN       0\n",
       "dtype: int64"
      ]
     },
     "execution_count": 9,
     "metadata": {},
     "output_type": "execute_result"
    }
   ],
   "source": [
    "df.apply(pd.isnull).sum()"
   ]
  },
  {
   "cell_type": "markdown",
   "id": "3930a3cd",
   "metadata": {},
   "source": [
    "# SNOW"
   ]
  },
  {
   "cell_type": "code",
   "execution_count": 10,
   "id": "a94a8f12",
   "metadata": {},
   "outputs": [
    {
     "name": "stdout",
     "output_type": "stream",
     "text": [
      "             SNOW  Cases\n",
      "0             0-1      0\n",
      "1          2-1000      1\n",
      "2  1001 and above      3\n"
     ]
    },
    {
     "name": "stderr",
     "output_type": "stream",
     "text": [
      "/var/folders/f3/567zc1c91t7dv2rxdqfm1zkxrcmrzx/T/ipykernel_56925/2489429417.py:5: FutureWarning: The default of observed=False is deprecated and will be changed to True in a future version of pandas. Pass observed=False to retain current behavior or observed=True to adopt the future default and silence this warning.\n",
      "  out = b.groupby(b).size().reset_index(name='Cases')\n"
     ]
    }
   ],
   "source": [
    "s = df.SNOW.isna().groupby(df.SNOW.notna().cumsum()).sum()\n",
    "s = s[s!=0]\n",
    "\n",
    "b = pd.cut(s, bins=[0, 1, 1000, np.inf], labels=['0-1','2-1000','1001 and above'])\n",
    "out = b.groupby(b).size().reset_index(name='Cases')\n",
    "print (out)"
   ]
  },
  {
   "cell_type": "code",
   "execution_count": 11,
   "id": "399e9cd2",
   "metadata": {},
   "outputs": [
    {
     "data": {
      "text/plain": [
       "DATE\n",
       "1997-03-01       1\n",
       "1997-03-02       2\n",
       "1997-03-03       3\n",
       "1997-03-04       4\n",
       "1997-03-05       5\n",
       "              ... \n",
       "2023-09-19    1603\n",
       "2023-09-20    1604\n",
       "2023-09-21    1605\n",
       "2023-09-22    1606\n",
       "2023-09-23    1607\n",
       "Name: SNOW, Length: 9582, dtype: int64"
      ]
     },
     "execution_count": 11,
     "metadata": {},
     "output_type": "execute_result"
    }
   ],
   "source": [
    "s = df.SNOW.isna().groupby(df.SNOW.notna().cumsum()).cumsum() #cumsum for index location\n",
    "s = s[s!=0]\n",
    "s"
   ]
  },
  {
   "cell_type": "code",
   "execution_count": 12,
   "id": "9a67462c",
   "metadata": {},
   "outputs": [
    {
     "data": {
      "text/plain": [
       "<Axes: xlabel='DATE'>"
      ]
     },
     "execution_count": 12,
     "metadata": {},
     "output_type": "execute_result"
    },
    {
     "data": {
      "image/png": "[encoded data removed]",
      "text/plain": [
       "<Figure size 500x250 with 1 Axes>"
      ]
     },
     "metadata": {},
     "output_type": "display_data"
    }
   ],
   "source": [
    "df.plot(y = ['SNOW'], figsize=(5,2.5))"
   ]
  },
  {
   "cell_type": "code",
   "execution_count": 13,
   "id": "ba65134a",
   "metadata": {},
   "outputs": [
    {
     "data": {
      "text/plain": [
       "<Axes: xlabel='DATE'>"
      ]
     },
     "execution_count": 13,
     "metadata": {},
     "output_type": "execute_result"
    },
    {
     "data": {
      "image/png": "[encoded data removed]",
      "text/plain": [
       "<Figure size 500x250 with 1 Axes>"
      ]
     },
     "metadata": {},
     "output_type": "display_data"
    }
   ],
   "source": [
    "df.loc[df['SNOW'].isnull(),'SNOW']=df[\"SNOW\"].fillna(0)\n",
    "df.plot(y = ['SNOW'], figsize=(5,2.5))"
   ]
  },
  {
   "cell_type": "code",
   "execution_count": 14,
   "id": "3ccb9066",
   "metadata": {},
   "outputs": [
    {
     "data": {
      "text/plain": [
       "AWND       0\n",
       "PRCP       0\n",
       "SNOW       0\n",
       "SNWD    8913\n",
       "TMAX       0\n",
       "TMIN       0\n",
       "dtype: int64"
      ]
     },
     "execution_count": 14,
     "metadata": {},
     "output_type": "execute_result"
    }
   ],
   "source": [
    "df.apply(pd.isnull).sum()"
   ]
  },
  {
   "cell_type": "markdown",
   "id": "560b84ac",
   "metadata": {},
   "source": [
    "# SNWD"
   ]
  },
  {
   "cell_type": "code",
   "execution_count": 15,
   "id": "83de4c28",
   "metadata": {},
   "outputs": [
    {
     "name": "stdout",
     "output_type": "stream",
     "text": [
      "             SNWD  Number\n",
      "0             0-1       3\n",
      "1          2-1000       1\n",
      "2  1001 and above       3\n"
     ]
    },
    {
     "name": "stderr",
     "output_type": "stream",
     "text": [
      "/var/folders/f3/567zc1c91t7dv2rxdqfm1zkxrcmrzx/T/ipykernel_56925/3119578094.py:5: FutureWarning: The default of observed=False is deprecated and will be changed to True in a future version of pandas. Pass observed=False to retain current behavior or observed=True to adopt the future default and silence this warning.\n",
      "  out = b.groupby(b).size().reset_index(name='Number')\n"
     ]
    }
   ],
   "source": [
    "sd = df.SNWD.isna().groupby(df.SNWD.notna().cumsum()).sum()\n",
    "sd = sd[sd!=0]\n",
    "\n",
    "b = pd.cut(sd, bins=[0, 1, 1000, np.inf], labels=['0-1','2-1000','1001 and above'])\n",
    "out = b.groupby(b).size().reset_index(name='Number')\n",
    "print (out)"
   ]
  },
  {
   "cell_type": "code",
   "execution_count": 16,
   "id": "46948a14",
   "metadata": {},
   "outputs": [
    {
     "data": {
      "text/plain": [
       "DATE\n",
       "1998-12-25       1\n",
       "1998-12-31       1\n",
       "1999-02-01       1\n",
       "1999-02-02       2\n",
       "1999-02-03       3\n",
       "              ... \n",
       "2023-09-19    1603\n",
       "2023-09-20    1604\n",
       "2023-09-21    1605\n",
       "2023-09-22    1606\n",
       "2023-09-23    1607\n",
       "Name: SNWD, Length: 8913, dtype: int64"
      ]
     },
     "execution_count": 16,
     "metadata": {},
     "output_type": "execute_result"
    }
   ],
   "source": [
    "sd = df.SNWD.isna().groupby(df.SNWD.notna().cumsum()).cumsum() #cumsum for index location\n",
    "sd = sd[sd!=0]\n",
    "sd"
   ]
  },
  {
   "cell_type": "code",
   "execution_count": 17,
   "id": "9b98bd93",
   "metadata": {},
   "outputs": [
    {
     "data": {
      "text/plain": [
       "array([<Axes: xlabel='DATE'>], dtype=object)"
      ]
     },
     "execution_count": 17,
     "metadata": {},
     "output_type": "execute_result"
    },
    {
     "data": {
      "image/png": "[encoded data removed]",
      "text/plain": [
       "<Figure size 500x250 with 1 Axes>"
      ]
     },
     "metadata": {},
     "output_type": "display_data"
    }
   ],
   "source": [
    "df.plot(y = ['SNWD'],subplots=True, figsize=(5,2.5))"
   ]
  },
  {
   "cell_type": "code",
   "execution_count": 18,
   "id": "816d8bac",
   "metadata": {},
   "outputs": [
    {
     "data": {
      "text/plain": [
       "<Axes: xlabel='DATE'>"
      ]
     },
     "execution_count": 18,
     "metadata": {},
     "output_type": "execute_result"
    },
    {
     "data": {
      "image/png": "[encoded data removed]",
      "text/plain": [
       "<Figure size 500x250 with 1 Axes>"
      ]
     },
     "metadata": {},
     "output_type": "display_data"
    }
   ],
   "source": [
    "df.loc[df['SNWD'].isnull(),'SNWD']=df[\"SNWD\"].fillna(0)\n",
    "df.plot(y = ['SNWD'], figsize=(5,2.5))"
   ]
  },
  {
   "cell_type": "code",
   "execution_count": 19,
   "id": "47b3a2e7",
   "metadata": {},
   "outputs": [
    {
     "data": {
      "text/plain": [
       "AWND    0\n",
       "PRCP    0\n",
       "SNOW    0\n",
       "SNWD    0\n",
       "TMAX    0\n",
       "TMIN    0\n",
       "dtype: int64"
      ]
     },
     "execution_count": 19,
     "metadata": {},
     "output_type": "execute_result"
    }
   ],
   "source": [
    "df.apply(pd.isnull).sum()"
   ]
  },
  {
   "cell_type": "code",
   "execution_count": null,
   "id": "c362ac02",
   "metadata": {},
   "outputs": [],
   "source": []
  }
 ],
 "metadata": {
  "kernelspec": {
   "display_name": "Python 3 (ipykernel)",
   "language": "python",
   "name": "python3"
  },
  "language_info": {
   "codemirror_mode": {
    "name": "ipython",
    "version": 3
   },
   "file_extension": ".py",
   "mimetype": "text/x-python",
   "name": "python",
   "nbconvert_exporter": "python",
   "pygments_lexer": "ipython3",
   "version": "3.11.5"
  },
  "varInspector": {
   "cols": {
    "lenName": 16,
    "lenType": 16,
    "lenVar": 40
   },
   "kernels_config": {
    "python": {
     "delete_cmd_postfix": "",
     "delete_cmd_prefix": "del ",
     "library": "var_list.py",
     "varRefreshCmd": "print(var_dic_list())"
    },
    "r": {
     "delete_cmd_postfix": ") ",
     "delete_cmd_prefix": "rm(",
     "library": "var_list.r",
     "varRefreshCmd": "cat(var_dic_list()) "
    }
   },
   "types_to_exclude": [
    "module",
    "function",
    "builtin_function_or_method",
    "instance",
    "_Feature"
   ],
   "window_display": false
  }
 },
 "nbformat": 4,
 "nbformat_minor": 5
}
