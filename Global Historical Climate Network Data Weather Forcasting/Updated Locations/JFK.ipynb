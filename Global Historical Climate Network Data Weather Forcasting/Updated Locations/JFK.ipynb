{
 "cells": [
  {
   "cell_type": "markdown",
   "id": "36b5a847",
   "metadata": {},
   "source": [
    "# New York, JFK Airport\n",
    "NOAA GHCN Data: https://www.ncei.noaa.gov/cdo-web/datasets"
   ]
  },
  {
   "cell_type": "code",
   "execution_count": 1,
   "id": "bbe64682",
   "metadata": {},
   "outputs": [],
   "source": [
    "import pandas as pd\n",
    "import numpy as np"
   ]
  },
  {
   "cell_type": "code",
   "execution_count": 2,
   "id": "dacbb10d",
   "metadata": {},
   "outputs": [],
   "source": [
    "weather=pd.read_csv(\"JFK_40.csv\")\n",
    "weather['DATE']= pd.to_datetime(weather['DATE'])\n",
    "weather.set_index([\"DATE\"],inplace=True)\n",
    "weather = weather.loc['1993-01-01':'2023-09-23']"
   ]
  },
  {
   "cell_type": "code",
   "execution_count": 3,
   "id": "1ff677e0",
   "metadata": {},
   "outputs": [
    {
     "data": {
      "text/plain": [
       "AWND    3\n",
       "PRCP    0\n",
       "SNOW    0\n",
       "SNWD    3\n",
       "TMAX    0\n",
       "TMIN    0\n",
       "dtype: int64"
      ]
     },
     "execution_count": 3,
     "metadata": {},
     "output_type": "execute_result"
    }
   ],
   "source": [
    "# The documention details the core weather variables. (These variables have the lowest null values.)\n",
    "df = weather[[\"AWND\",\"PRCP\", \"SNOW\", \"SNWD\", \"TMAX\", \"TMIN\"]].copy()\n",
    "df.apply(pd.isnull).sum()"
   ]
  },
  {
   "cell_type": "markdown",
   "id": "1935d144",
   "metadata": {},
   "source": [
    "# AWND"
   ]
  },
  {
   "cell_type": "code",
   "execution_count": 4,
   "id": "3b163111",
   "metadata": {},
   "outputs": [
    {
     "name": "stdout",
     "output_type": "stream",
     "text": [
      "          AWND  Number\n",
      "0          0-1       3\n",
      "1          2-5       0\n",
      "2  6 and above       0\n"
     ]
    },
    {
     "name": "stderr",
     "output_type": "stream",
     "text": [
      "/var/folders/f3/567zc1c91t7dv2rxdqfm1zkxrcmrzx/T/ipykernel_56939/442758383.py:5: FutureWarning: The default of observed=False is deprecated and will be changed to True in a future version of pandas. Pass observed=False to retain current behavior or observed=True to adopt the future default and silence this warning.\n",
      "  out = b.groupby(b).size().reset_index(name='Number')\n"
     ]
    }
   ],
   "source": [
    "w = df.AWND.isna().groupby(df.AWND.notna().cumsum()).sum()\n",
    "w = w[w!=0]\n",
    "\n",
    "b = pd.cut(w, bins=[0, 1, 5, np.inf], labels=['0-1','2-5','6 and above'])\n",
    "out = b.groupby(b).size().reset_index(name='Number')\n",
    "print (out)"
   ]
  },
  {
   "cell_type": "code",
   "execution_count": 5,
   "id": "ac9f587a",
   "metadata": {},
   "outputs": [
    {
     "data": {
      "text/plain": [
       "DATE\n",
       "1997-01-21    1\n",
       "1999-02-11    1\n",
       "2023-09-23    1\n",
       "Name: AWND, dtype: int64"
      ]
     },
     "execution_count": 5,
     "metadata": {},
     "output_type": "execute_result"
    }
   ],
   "source": [
    "w = df.AWND.isna().groupby(df.AWND.notna().cumsum()).cumsum() #cumsum for index location\n",
    "w = w[w!=0]\n",
    "w"
   ]
  },
  {
   "cell_type": "code",
   "execution_count": 6,
   "id": "580e3c88",
   "metadata": {},
   "outputs": [
    {
     "data": {
      "text/html": [
       "<div>\n",
       "<style scoped>\n",
       "    .dataframe tbody tr th:only-of-type {\n",
       "        vertical-align: middle;\n",
       "    }\n",
       "\n",
       "    .dataframe tbody tr th {\n",
       "        vertical-align: top;\n",
       "    }\n",
       "\n",
       "    .dataframe thead th {\n",
       "        text-align: right;\n",
       "    }\n",
       "</style>\n",
       "<table border=\"1\" class=\"dataframe\">\n",
       "  <thead>\n",
       "    <tr style=\"text-align: right;\">\n",
       "      <th></th>\n",
       "      <th>AWND</th>\n",
       "      <th>PRCP</th>\n",
       "      <th>SNOW</th>\n",
       "      <th>SNWD</th>\n",
       "      <th>TMAX</th>\n",
       "      <th>TMIN</th>\n",
       "    </tr>\n",
       "    <tr>\n",
       "      <th>DATE</th>\n",
       "      <th></th>\n",
       "      <th></th>\n",
       "      <th></th>\n",
       "      <th></th>\n",
       "      <th></th>\n",
       "      <th></th>\n",
       "    </tr>\n",
       "  </thead>\n",
       "  <tbody>\n",
       "    <tr>\n",
       "      <th>1997-01-20</th>\n",
       "      <td>12.75</td>\n",
       "      <td>0.00</td>\n",
       "      <td>0.0</td>\n",
       "      <td>0.0</td>\n",
       "      <td>34</td>\n",
       "      <td>18</td>\n",
       "    </tr>\n",
       "    <tr>\n",
       "      <th>1997-01-21</th>\n",
       "      <td>NaN</td>\n",
       "      <td>0.00</td>\n",
       "      <td>0.0</td>\n",
       "      <td>0.0</td>\n",
       "      <td>38</td>\n",
       "      <td>27</td>\n",
       "    </tr>\n",
       "    <tr>\n",
       "      <th>1997-01-22</th>\n",
       "      <td>15.66</td>\n",
       "      <td>0.13</td>\n",
       "      <td>0.0</td>\n",
       "      <td>0.0</td>\n",
       "      <td>47</td>\n",
       "      <td>30</td>\n",
       "    </tr>\n",
       "  </tbody>\n",
       "</table>\n",
       "</div>"
      ],
      "text/plain": [
       "             AWND  PRCP  SNOW  SNWD  TMAX  TMIN\n",
       "DATE                                           \n",
       "1997-01-20  12.75  0.00   0.0   0.0    34    18\n",
       "1997-01-21    NaN  0.00   0.0   0.0    38    27\n",
       "1997-01-22  15.66  0.13   0.0   0.0    47    30"
      ]
     },
     "execution_count": 6,
     "metadata": {},
     "output_type": "execute_result"
    }
   ],
   "source": [
    "filtered_df = df.loc['1997-01-20':'1997-01-22']\n",
    "filtered_df"
   ]
  },
  {
   "cell_type": "code",
   "execution_count": 7,
   "id": "28d4a15c",
   "metadata": {},
   "outputs": [],
   "source": [
    "df.loc[df['AWND'].isnull(),'AWND']=df['AWND'].interpolate()"
   ]
  },
  {
   "cell_type": "code",
   "execution_count": 8,
   "id": "3c06c61c",
   "metadata": {},
   "outputs": [
    {
     "data": {
      "text/html": [
       "<div>\n",
       "<style scoped>\n",
       "    .dataframe tbody tr th:only-of-type {\n",
       "        vertical-align: middle;\n",
       "    }\n",
       "\n",
       "    .dataframe tbody tr th {\n",
       "        vertical-align: top;\n",
       "    }\n",
       "\n",
       "    .dataframe thead th {\n",
       "        text-align: right;\n",
       "    }\n",
       "</style>\n",
       "<table border=\"1\" class=\"dataframe\">\n",
       "  <thead>\n",
       "    <tr style=\"text-align: right;\">\n",
       "      <th></th>\n",
       "      <th>AWND</th>\n",
       "      <th>PRCP</th>\n",
       "      <th>SNOW</th>\n",
       "      <th>SNWD</th>\n",
       "      <th>TMAX</th>\n",
       "      <th>TMIN</th>\n",
       "    </tr>\n",
       "    <tr>\n",
       "      <th>DATE</th>\n",
       "      <th></th>\n",
       "      <th></th>\n",
       "      <th></th>\n",
       "      <th></th>\n",
       "      <th></th>\n",
       "      <th></th>\n",
       "    </tr>\n",
       "  </thead>\n",
       "  <tbody>\n",
       "    <tr>\n",
       "      <th>1997-01-20</th>\n",
       "      <td>12.750</td>\n",
       "      <td>0.00</td>\n",
       "      <td>0.0</td>\n",
       "      <td>0.0</td>\n",
       "      <td>34</td>\n",
       "      <td>18</td>\n",
       "    </tr>\n",
       "    <tr>\n",
       "      <th>1997-01-21</th>\n",
       "      <td>14.205</td>\n",
       "      <td>0.00</td>\n",
       "      <td>0.0</td>\n",
       "      <td>0.0</td>\n",
       "      <td>38</td>\n",
       "      <td>27</td>\n",
       "    </tr>\n",
       "    <tr>\n",
       "      <th>1997-01-22</th>\n",
       "      <td>15.660</td>\n",
       "      <td>0.13</td>\n",
       "      <td>0.0</td>\n",
       "      <td>0.0</td>\n",
       "      <td>47</td>\n",
       "      <td>30</td>\n",
       "    </tr>\n",
       "  </tbody>\n",
       "</table>\n",
       "</div>"
      ],
      "text/plain": [
       "              AWND  PRCP  SNOW  SNWD  TMAX  TMIN\n",
       "DATE                                            \n",
       "1997-01-20  12.750  0.00   0.0   0.0    34    18\n",
       "1997-01-21  14.205  0.00   0.0   0.0    38    27\n",
       "1997-01-22  15.660  0.13   0.0   0.0    47    30"
      ]
     },
     "execution_count": 8,
     "metadata": {},
     "output_type": "execute_result"
    }
   ],
   "source": [
    "filtered_df = df.loc['1997-01-20':'1997-01-22']\n",
    "filtered_df"
   ]
  },
  {
   "cell_type": "code",
   "execution_count": 9,
   "id": "5adfadb3",
   "metadata": {},
   "outputs": [
    {
     "data": {
      "text/plain": [
       "AWND    0\n",
       "PRCP    0\n",
       "SNOW    0\n",
       "SNWD    3\n",
       "TMAX    0\n",
       "TMIN    0\n",
       "dtype: int64"
      ]
     },
     "execution_count": 9,
     "metadata": {},
     "output_type": "execute_result"
    }
   ],
   "source": [
    "df.apply(pd.isnull).sum()"
   ]
  },
  {
   "cell_type": "markdown",
   "id": "211e5761",
   "metadata": {},
   "source": [
    "# SNWD"
   ]
  },
  {
   "cell_type": "code",
   "execution_count": 10,
   "id": "94d74881",
   "metadata": {},
   "outputs": [
    {
     "name": "stdout",
     "output_type": "stream",
     "text": [
      "          SNWD  Number\n",
      "0          0-1       3\n",
      "1          2-5       0\n",
      "2  6 and above       0\n"
     ]
    },
    {
     "name": "stderr",
     "output_type": "stream",
     "text": [
      "/var/folders/f3/567zc1c91t7dv2rxdqfm1zkxrcmrzx/T/ipykernel_56939/1154184717.py:5: FutureWarning: The default of observed=False is deprecated and will be changed to True in a future version of pandas. Pass observed=False to retain current behavior or observed=True to adopt the future default and silence this warning.\n",
      "  out = b.groupby(b).size().reset_index(name='Number')\n"
     ]
    }
   ],
   "source": [
    "sd = df.SNWD.isna().groupby(df.SNWD.notna().cumsum()).sum()\n",
    "sd = sd[sd!=0]\n",
    "\n",
    "b = pd.cut(sd, bins=[0, 1, 5, np.inf], labels=['0-1','2-5','6 and above'])\n",
    "out = b.groupby(b).size().reset_index(name='Number')\n",
    "print (out)"
   ]
  },
  {
   "cell_type": "code",
   "execution_count": 11,
   "id": "2790b282",
   "metadata": {},
   "outputs": [
    {
     "data": {
      "text/plain": [
       "DATE\n",
       "2023-07-08    1\n",
       "2023-07-10    1\n",
       "2023-09-09    1\n",
       "Name: SNWD, dtype: int64"
      ]
     },
     "execution_count": 11,
     "metadata": {},
     "output_type": "execute_result"
    }
   ],
   "source": [
    "sd = df.SNWD.isna().groupby(df.SNWD.notna().cumsum()).cumsum() #cumsum for index location\n",
    "sd = sd[sd!=0]\n",
    "sd"
   ]
  },
  {
   "cell_type": "code",
   "execution_count": 12,
   "id": "c6f141d3",
   "metadata": {},
   "outputs": [
    {
     "data": {
      "text/html": [
       "<div>\n",
       "<style scoped>\n",
       "    .dataframe tbody tr th:only-of-type {\n",
       "        vertical-align: middle;\n",
       "    }\n",
       "\n",
       "    .dataframe tbody tr th {\n",
       "        vertical-align: top;\n",
       "    }\n",
       "\n",
       "    .dataframe thead th {\n",
       "        text-align: right;\n",
       "    }\n",
       "</style>\n",
       "<table border=\"1\" class=\"dataframe\">\n",
       "  <thead>\n",
       "    <tr style=\"text-align: right;\">\n",
       "      <th></th>\n",
       "      <th>AWND</th>\n",
       "      <th>PRCP</th>\n",
       "      <th>SNOW</th>\n",
       "      <th>SNWD</th>\n",
       "      <th>TMAX</th>\n",
       "      <th>TMIN</th>\n",
       "    </tr>\n",
       "    <tr>\n",
       "      <th>DATE</th>\n",
       "      <th></th>\n",
       "      <th></th>\n",
       "      <th></th>\n",
       "      <th></th>\n",
       "      <th></th>\n",
       "      <th></th>\n",
       "    </tr>\n",
       "  </thead>\n",
       "  <tbody>\n",
       "    <tr>\n",
       "      <th>2023-07-07</th>\n",
       "      <td>6.49</td>\n",
       "      <td>0.00</td>\n",
       "      <td>0.0</td>\n",
       "      <td>0.0</td>\n",
       "      <td>84</td>\n",
       "      <td>74</td>\n",
       "    </tr>\n",
       "    <tr>\n",
       "      <th>2023-07-08</th>\n",
       "      <td>6.71</td>\n",
       "      <td>0.00</td>\n",
       "      <td>0.0</td>\n",
       "      <td>NaN</td>\n",
       "      <td>84</td>\n",
       "      <td>73</td>\n",
       "    </tr>\n",
       "    <tr>\n",
       "      <th>2023-07-09</th>\n",
       "      <td>10.07</td>\n",
       "      <td>0.53</td>\n",
       "      <td>0.0</td>\n",
       "      <td>0.0</td>\n",
       "      <td>81</td>\n",
       "      <td>74</td>\n",
       "    </tr>\n",
       "    <tr>\n",
       "      <th>2023-07-10</th>\n",
       "      <td>9.84</td>\n",
       "      <td>0.00</td>\n",
       "      <td>0.0</td>\n",
       "      <td>NaN</td>\n",
       "      <td>87</td>\n",
       "      <td>71</td>\n",
       "    </tr>\n",
       "    <tr>\n",
       "      <th>2023-07-11</th>\n",
       "      <td>10.51</td>\n",
       "      <td>0.00</td>\n",
       "      <td>0.0</td>\n",
       "      <td>0.0</td>\n",
       "      <td>86</td>\n",
       "      <td>70</td>\n",
       "    </tr>\n",
       "  </tbody>\n",
       "</table>\n",
       "</div>"
      ],
      "text/plain": [
       "             AWND  PRCP  SNOW  SNWD  TMAX  TMIN\n",
       "DATE                                           \n",
       "2023-07-07   6.49  0.00   0.0   0.0    84    74\n",
       "2023-07-08   6.71  0.00   0.0   NaN    84    73\n",
       "2023-07-09  10.07  0.53   0.0   0.0    81    74\n",
       "2023-07-10   9.84  0.00   0.0   NaN    87    71\n",
       "2023-07-11  10.51  0.00   0.0   0.0    86    70"
      ]
     },
     "execution_count": 12,
     "metadata": {},
     "output_type": "execute_result"
    }
   ],
   "source": [
    "filtered_df = df.loc['2023-07-07':'2023-07-11']\n",
    "filtered_df"
   ]
  },
  {
   "cell_type": "code",
   "execution_count": 13,
   "id": "3e1b7e95",
   "metadata": {},
   "outputs": [],
   "source": [
    "df.loc[df['SNWD'].isnull(),'SNWD']=df[\"SNWD\"].fillna(0)"
   ]
  },
  {
   "cell_type": "code",
   "execution_count": 14,
   "id": "9789033f",
   "metadata": {},
   "outputs": [
    {
     "data": {
      "text/plain": [
       "AWND    0\n",
       "PRCP    0\n",
       "SNOW    0\n",
       "SNWD    0\n",
       "TMAX    0\n",
       "TMIN    0\n",
       "dtype: int64"
      ]
     },
     "execution_count": 14,
     "metadata": {},
     "output_type": "execute_result"
    }
   ],
   "source": [
    "df.apply(pd.isnull).sum()"
   ]
  },
  {
   "cell_type": "code",
   "execution_count": null,
   "id": "4813db5b",
   "metadata": {},
   "outputs": [],
   "source": []
  }
 ],
 "metadata": {
  "kernelspec": {
   "display_name": "Python 3 (ipykernel)",
   "language": "python",
   "name": "python3"
  },
  "language_info": {
   "codemirror_mode": {
    "name": "ipython",
    "version": 3
   },
   "file_extension": ".py",
   "mimetype": "text/x-python",
   "name": "python",
   "nbconvert_exporter": "python",
   "pygments_lexer": "ipython3",
   "version": "3.11.5"
  },
  "varInspector": {
   "cols": {
    "lenName": 16,
    "lenType": 16,
    "lenVar": 40
   },
   "kernels_config": {
    "python": {
     "delete_cmd_postfix": "",
     "delete_cmd_prefix": "del ",
     "library": "var_list.py",
     "varRefreshCmd": "print(var_dic_list())"
    },
    "r": {
     "delete_cmd_postfix": ") ",
     "delete_cmd_prefix": "rm(",
     "library": "var_list.r",
     "varRefreshCmd": "cat(var_dic_list()) "
    }
   },
   "types_to_exclude": [
    "module",
    "function",
    "builtin_function_or_method",
    "instance",
    "_Feature"
   ],
   "window_display": false
  }
 },
 "nbformat": 4,
 "nbformat_minor": 5
}
