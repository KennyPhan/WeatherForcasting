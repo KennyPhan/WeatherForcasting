{
 "cells": [
  {
   "cell_type": "markdown",
   "id": "09fc5eec",
   "metadata": {},
   "source": [
    "# Kansas City, MCI Airport\n",
    "NOAA GHCN Data: https://www.ncei.noaa.gov/cdo-web/datasets"
   ]
  },
  {
   "cell_type": "code",
   "execution_count": 1,
   "id": "74a06d93",
   "metadata": {},
   "outputs": [],
   "source": [
    "import pandas as pd\n",
    "import numpy as np"
   ]
  },
  {
   "cell_type": "code",
   "execution_count": 2,
   "id": "40d3d291",
   "metadata": {},
   "outputs": [],
   "source": [
    "weather=pd.read_csv(\"MCI_40.csv\")\n",
    "weather['DATE']= pd.to_datetime(weather['DATE'])\n",
    "weather.set_index([\"DATE\"],inplace=True)\n",
    "weather = weather.loc['1993-01-01':'2023-09-23']"
   ]
  },
  {
   "cell_type": "code",
   "execution_count": 3,
   "id": "6f0a769b",
   "metadata": {},
   "outputs": [
    {
     "data": {
      "text/plain": [
       "AWND      6\n",
       "PRCP      0\n",
       "SNOW    126\n",
       "SNWD    135\n",
       "TMAX      0\n",
       "TMIN      0\n",
       "dtype: int64"
      ]
     },
     "execution_count": 3,
     "metadata": {},
     "output_type": "execute_result"
    }
   ],
   "source": [
    "# The documention details the core weather variables + wind. (These variables have the lowest null values.)\n",
    "df = weather[[\"AWND\",\"PRCP\", \"SNOW\", \"SNWD\", \"TMAX\", \"TMIN\"]].copy()\n",
    "df.apply(pd.isnull).sum()"
   ]
  },
  {
   "cell_type": "markdown",
   "id": "da49b57f",
   "metadata": {},
   "source": [
    "# AWND"
   ]
  },
  {
   "cell_type": "code",
   "execution_count": 4,
   "id": "41219750",
   "metadata": {},
   "outputs": [
    {
     "name": "stdout",
     "output_type": "stream",
     "text": [
      "          AWND  Number\n",
      "0          0-1       2\n",
      "1          2-5       2\n",
      "2  6 and above       0\n"
     ]
    },
    {
     "name": "stderr",
     "output_type": "stream",
     "text": [
      "/var/folders/f3/567zc1c91t7dv2rxdqfm1zkxrcmrzx/T/ipykernel_56908/442758383.py:5: FutureWarning: The default of observed=False is deprecated and will be changed to True in a future version of pandas. Pass observed=False to retain current behavior or observed=True to adopt the future default and silence this warning.\n",
      "  out = b.groupby(b).size().reset_index(name='Number')\n"
     ]
    }
   ],
   "source": [
    "w = df.AWND.isna().groupby(df.AWND.notna().cumsum()).sum()\n",
    "w = w[w!=0]\n",
    "\n",
    "b = pd.cut(w, bins=[0, 1, 5, np.inf], labels=['0-1','2-5','6 and above'])\n",
    "out = b.groupby(b).size().reset_index(name='Number')\n",
    "print (out)"
   ]
  },
  {
   "cell_type": "code",
   "execution_count": 5,
   "id": "c2cee6c3",
   "metadata": {},
   "outputs": [
    {
     "data": {
      "text/plain": [
       "DATE\n",
       "1997-04-06    1\n",
       "1997-08-25    1\n",
       "1997-08-26    2\n",
       "1998-05-02    1\n",
       "1999-11-05    1\n",
       "1999-11-06    2\n",
       "Name: AWND, dtype: int64"
      ]
     },
     "execution_count": 5,
     "metadata": {},
     "output_type": "execute_result"
    }
   ],
   "source": [
    "w = df.AWND.isna().groupby(df.AWND.notna().cumsum()).cumsum() #cumsum for index location\n",
    "w = w[w!=0]\n",
    "pd.set_option('display.max_rows', None)\n",
    "w"
   ]
  },
  {
   "cell_type": "code",
   "execution_count": 6,
   "id": "a89aee7e",
   "metadata": {},
   "outputs": [
    {
     "data": {
      "text/html": [
       "<div>\n",
       "<style scoped>\n",
       "    .dataframe tbody tr th:only-of-type {\n",
       "        vertical-align: middle;\n",
       "    }\n",
       "\n",
       "    .dataframe tbody tr th {\n",
       "        vertical-align: top;\n",
       "    }\n",
       "\n",
       "    .dataframe thead th {\n",
       "        text-align: right;\n",
       "    }\n",
       "</style>\n",
       "<table border=\"1\" class=\"dataframe\">\n",
       "  <thead>\n",
       "    <tr style=\"text-align: right;\">\n",
       "      <th></th>\n",
       "      <th>AWND</th>\n",
       "      <th>PRCP</th>\n",
       "      <th>SNOW</th>\n",
       "      <th>SNWD</th>\n",
       "      <th>TMAX</th>\n",
       "      <th>TMIN</th>\n",
       "    </tr>\n",
       "    <tr>\n",
       "      <th>DATE</th>\n",
       "      <th></th>\n",
       "      <th></th>\n",
       "      <th></th>\n",
       "      <th></th>\n",
       "      <th></th>\n",
       "      <th></th>\n",
       "    </tr>\n",
       "  </thead>\n",
       "  <tbody>\n",
       "    <tr>\n",
       "      <th>1999-11-04</th>\n",
       "      <td>10.51</td>\n",
       "      <td>0.0</td>\n",
       "      <td>0.0</td>\n",
       "      <td>0.0</td>\n",
       "      <td>68</td>\n",
       "      <td>33</td>\n",
       "    </tr>\n",
       "    <tr>\n",
       "      <th>1999-11-05</th>\n",
       "      <td>NaN</td>\n",
       "      <td>0.0</td>\n",
       "      <td>0.0</td>\n",
       "      <td>0.0</td>\n",
       "      <td>70</td>\n",
       "      <td>52</td>\n",
       "    </tr>\n",
       "    <tr>\n",
       "      <th>1999-11-06</th>\n",
       "      <td>NaN</td>\n",
       "      <td>0.0</td>\n",
       "      <td>0.0</td>\n",
       "      <td>0.0</td>\n",
       "      <td>74</td>\n",
       "      <td>55</td>\n",
       "    </tr>\n",
       "    <tr>\n",
       "      <th>1999-11-07</th>\n",
       "      <td>5.59</td>\n",
       "      <td>0.0</td>\n",
       "      <td>0.0</td>\n",
       "      <td>0.0</td>\n",
       "      <td>76</td>\n",
       "      <td>45</td>\n",
       "    </tr>\n",
       "  </tbody>\n",
       "</table>\n",
       "</div>"
      ],
      "text/plain": [
       "             AWND  PRCP  SNOW  SNWD  TMAX  TMIN\n",
       "DATE                                           \n",
       "1999-11-04  10.51   0.0   0.0   0.0    68    33\n",
       "1999-11-05    NaN   0.0   0.0   0.0    70    52\n",
       "1999-11-06    NaN   0.0   0.0   0.0    74    55\n",
       "1999-11-07   5.59   0.0   0.0   0.0    76    45"
      ]
     },
     "execution_count": 6,
     "metadata": {},
     "output_type": "execute_result"
    }
   ],
   "source": [
    "filtered_df = df.loc['1999-11-04':'1999-11-07']\n",
    "filtered_df"
   ]
  },
  {
   "cell_type": "code",
   "execution_count": 7,
   "id": "ebac03a8",
   "metadata": {},
   "outputs": [],
   "source": [
    "df.loc[df['AWND'].isnull(),'AWND']=df['AWND'].interpolate()"
   ]
  },
  {
   "cell_type": "code",
   "execution_count": 8,
   "id": "561e12d6",
   "metadata": {},
   "outputs": [
    {
     "data": {
      "text/html": [
       "<div>\n",
       "<style scoped>\n",
       "    .dataframe tbody tr th:only-of-type {\n",
       "        vertical-align: middle;\n",
       "    }\n",
       "\n",
       "    .dataframe tbody tr th {\n",
       "        vertical-align: top;\n",
       "    }\n",
       "\n",
       "    .dataframe thead th {\n",
       "        text-align: right;\n",
       "    }\n",
       "</style>\n",
       "<table border=\"1\" class=\"dataframe\">\n",
       "  <thead>\n",
       "    <tr style=\"text-align: right;\">\n",
       "      <th></th>\n",
       "      <th>AWND</th>\n",
       "      <th>PRCP</th>\n",
       "      <th>SNOW</th>\n",
       "      <th>SNWD</th>\n",
       "      <th>TMAX</th>\n",
       "      <th>TMIN</th>\n",
       "    </tr>\n",
       "    <tr>\n",
       "      <th>DATE</th>\n",
       "      <th></th>\n",
       "      <th></th>\n",
       "      <th></th>\n",
       "      <th></th>\n",
       "      <th></th>\n",
       "      <th></th>\n",
       "    </tr>\n",
       "  </thead>\n",
       "  <tbody>\n",
       "    <tr>\n",
       "      <th>1999-11-04</th>\n",
       "      <td>10.51</td>\n",
       "      <td>0.0</td>\n",
       "      <td>0.0</td>\n",
       "      <td>0.0</td>\n",
       "      <td>68</td>\n",
       "      <td>33</td>\n",
       "    </tr>\n",
       "    <tr>\n",
       "      <th>1999-11-05</th>\n",
       "      <td>8.87</td>\n",
       "      <td>0.0</td>\n",
       "      <td>0.0</td>\n",
       "      <td>0.0</td>\n",
       "      <td>70</td>\n",
       "      <td>52</td>\n",
       "    </tr>\n",
       "    <tr>\n",
       "      <th>1999-11-06</th>\n",
       "      <td>7.23</td>\n",
       "      <td>0.0</td>\n",
       "      <td>0.0</td>\n",
       "      <td>0.0</td>\n",
       "      <td>74</td>\n",
       "      <td>55</td>\n",
       "    </tr>\n",
       "    <tr>\n",
       "      <th>1999-11-07</th>\n",
       "      <td>5.59</td>\n",
       "      <td>0.0</td>\n",
       "      <td>0.0</td>\n",
       "      <td>0.0</td>\n",
       "      <td>76</td>\n",
       "      <td>45</td>\n",
       "    </tr>\n",
       "  </tbody>\n",
       "</table>\n",
       "</div>"
      ],
      "text/plain": [
       "             AWND  PRCP  SNOW  SNWD  TMAX  TMIN\n",
       "DATE                                           \n",
       "1999-11-04  10.51   0.0   0.0   0.0    68    33\n",
       "1999-11-05   8.87   0.0   0.0   0.0    70    52\n",
       "1999-11-06   7.23   0.0   0.0   0.0    74    55\n",
       "1999-11-07   5.59   0.0   0.0   0.0    76    45"
      ]
     },
     "execution_count": 8,
     "metadata": {},
     "output_type": "execute_result"
    }
   ],
   "source": [
    "filtered_df = df.loc['1999-11-04':'1999-11-07']\n",
    "filtered_df"
   ]
  },
  {
   "cell_type": "code",
   "execution_count": 9,
   "id": "13039982",
   "metadata": {},
   "outputs": [
    {
     "data": {
      "text/plain": [
       "AWND      0\n",
       "PRCP      0\n",
       "SNOW    126\n",
       "SNWD    135\n",
       "TMAX      0\n",
       "TMIN      0\n",
       "dtype: int64"
      ]
     },
     "execution_count": 9,
     "metadata": {},
     "output_type": "execute_result"
    }
   ],
   "source": [
    "df.apply(pd.isnull).sum()"
   ]
  },
  {
   "cell_type": "markdown",
   "id": "97c8c701",
   "metadata": {},
   "source": [
    "# SNOW"
   ]
  },
  {
   "cell_type": "code",
   "execution_count": 10,
   "id": "eb073d2d",
   "metadata": {},
   "outputs": [
    {
     "name": "stdout",
     "output_type": "stream",
     "text": [
      "            SNOW  Number\n",
      "0            0-1       3\n",
      "1          2-100       0\n",
      "2  101 and above       1\n"
     ]
    },
    {
     "name": "stderr",
     "output_type": "stream",
     "text": [
      "/var/folders/f3/567zc1c91t7dv2rxdqfm1zkxrcmrzx/T/ipykernel_56908/1413220955.py:5: FutureWarning: The default of observed=False is deprecated and will be changed to True in a future version of pandas. Pass observed=False to retain current behavior or observed=True to adopt the future default and silence this warning.\n",
      "  out = b.groupby(b).size().reset_index(name='Number')\n"
     ]
    }
   ],
   "source": [
    "s = df.SNOW.isna().groupby(df.SNOW.notna().cumsum()).sum()\n",
    "s = s[s!=0]\n",
    "\n",
    "b = pd.cut(s, bins=[0, 1, 100, np.inf], labels=['0-1','2-100','101 and above'])\n",
    "out = b.groupby(b).size().reset_index(name='Number')\n",
    "print (out)"
   ]
  },
  {
   "cell_type": "code",
   "execution_count": 11,
   "id": "64503ec3",
   "metadata": {},
   "outputs": [
    {
     "data": {
      "text/plain": [
       "DATE\n",
       "1996-02-17      1\n",
       "1996-02-19      1\n",
       "1996-05-09      1\n",
       "1996-05-31      1\n",
       "1996-06-01      2\n",
       "1996-06-02      3\n",
       "1996-06-03      4\n",
       "1996-06-04      5\n",
       "1996-06-05      6\n",
       "1996-06-06      7\n",
       "1996-06-07      8\n",
       "1996-06-08      9\n",
       "1996-06-09     10\n",
       "1996-06-10     11\n",
       "1996-06-11     12\n",
       "1996-06-12     13\n",
       "1996-06-13     14\n",
       "1996-06-14     15\n",
       "1996-06-15     16\n",
       "1996-06-16     17\n",
       "1996-06-17     18\n",
       "1996-06-18     19\n",
       "1996-06-19     20\n",
       "1996-06-20     21\n",
       "1996-06-21     22\n",
       "1996-06-22     23\n",
       "1996-06-23     24\n",
       "1996-06-24     25\n",
       "1996-06-25     26\n",
       "1996-06-26     27\n",
       "1996-06-27     28\n",
       "1996-06-28     29\n",
       "1996-06-29     30\n",
       "1996-06-30     31\n",
       "1996-07-01     32\n",
       "1996-07-02     33\n",
       "1996-07-03     34\n",
       "1996-07-04     35\n",
       "1996-07-05     36\n",
       "1996-07-06     37\n",
       "1996-07-07     38\n",
       "1996-07-08     39\n",
       "1996-07-09     40\n",
       "1996-07-10     41\n",
       "1996-07-11     42\n",
       "1996-07-12     43\n",
       "1996-07-13     44\n",
       "1996-07-14     45\n",
       "1996-07-15     46\n",
       "1996-07-16     47\n",
       "1996-07-17     48\n",
       "1996-07-18     49\n",
       "1996-07-19     50\n",
       "1996-07-20     51\n",
       "1996-07-21     52\n",
       "1996-07-22     53\n",
       "1996-07-23     54\n",
       "1996-07-24     55\n",
       "1996-07-25     56\n",
       "1996-07-26     57\n",
       "1996-07-27     58\n",
       "1996-07-28     59\n",
       "1996-07-29     60\n",
       "1996-07-30     61\n",
       "1996-07-31     62\n",
       "1996-08-01     63\n",
       "1996-08-02     64\n",
       "1996-08-03     65\n",
       "1996-08-04     66\n",
       "1996-08-05     67\n",
       "1996-08-06     68\n",
       "1996-08-07     69\n",
       "1996-08-08     70\n",
       "1996-08-09     71\n",
       "1996-08-10     72\n",
       "1996-08-11     73\n",
       "1996-08-12     74\n",
       "1996-08-13     75\n",
       "1996-08-14     76\n",
       "1996-08-15     77\n",
       "1996-08-16     78\n",
       "1996-08-17     79\n",
       "1996-08-18     80\n",
       "1996-08-19     81\n",
       "1996-08-20     82\n",
       "1996-08-21     83\n",
       "1996-08-22     84\n",
       "1996-08-23     85\n",
       "1996-08-24     86\n",
       "1996-08-25     87\n",
       "1996-08-26     88\n",
       "1996-08-27     89\n",
       "1996-08-28     90\n",
       "1996-08-29     91\n",
       "1996-08-30     92\n",
       "1996-08-31     93\n",
       "1996-09-01     94\n",
       "1996-09-02     95\n",
       "1996-09-03     96\n",
       "1996-09-04     97\n",
       "1996-09-05     98\n",
       "1996-09-06     99\n",
       "1996-09-07    100\n",
       "1996-09-08    101\n",
       "1996-09-09    102\n",
       "1996-09-10    103\n",
       "1996-09-11    104\n",
       "1996-09-12    105\n",
       "1996-09-13    106\n",
       "1996-09-14    107\n",
       "1996-09-15    108\n",
       "1996-09-16    109\n",
       "1996-09-17    110\n",
       "1996-09-18    111\n",
       "1996-09-19    112\n",
       "1996-09-20    113\n",
       "1996-09-21    114\n",
       "1996-09-22    115\n",
       "1996-09-23    116\n",
       "1996-09-24    117\n",
       "1996-09-25    118\n",
       "1996-09-26    119\n",
       "1996-09-27    120\n",
       "1996-09-28    121\n",
       "1996-09-29    122\n",
       "1996-09-30    123\n",
       "Name: SNOW, dtype: int64"
      ]
     },
     "execution_count": 11,
     "metadata": {},
     "output_type": "execute_result"
    }
   ],
   "source": [
    "s = df.SNOW.isna().groupby(df.SNOW.notna().cumsum()).cumsum() #cumsum for index location\n",
    "s = s[s!=0]\n",
    "s"
   ]
  },
  {
   "cell_type": "code",
   "execution_count": 12,
   "id": "70747ac3",
   "metadata": {},
   "outputs": [
    {
     "data": {
      "text/html": [
       "<div>\n",
       "<style scoped>\n",
       "    .dataframe tbody tr th:only-of-type {\n",
       "        vertical-align: middle;\n",
       "    }\n",
       "\n",
       "    .dataframe tbody tr th {\n",
       "        vertical-align: top;\n",
       "    }\n",
       "\n",
       "    .dataframe thead th {\n",
       "        text-align: right;\n",
       "    }\n",
       "</style>\n",
       "<table border=\"1\" class=\"dataframe\">\n",
       "  <thead>\n",
       "    <tr style=\"text-align: right;\">\n",
       "      <th></th>\n",
       "      <th>AWND</th>\n",
       "      <th>PRCP</th>\n",
       "      <th>SNOW</th>\n",
       "      <th>SNWD</th>\n",
       "      <th>TMAX</th>\n",
       "      <th>TMIN</th>\n",
       "    </tr>\n",
       "    <tr>\n",
       "      <th>DATE</th>\n",
       "      <th></th>\n",
       "      <th></th>\n",
       "      <th></th>\n",
       "      <th></th>\n",
       "      <th></th>\n",
       "      <th></th>\n",
       "    </tr>\n",
       "  </thead>\n",
       "  <tbody>\n",
       "    <tr>\n",
       "      <th>1996-02-15</th>\n",
       "      <td>16.11</td>\n",
       "      <td>0.0</td>\n",
       "      <td>0.0</td>\n",
       "      <td>0.0</td>\n",
       "      <td>42</td>\n",
       "      <td>16</td>\n",
       "    </tr>\n",
       "    <tr>\n",
       "      <th>1996-02-16</th>\n",
       "      <td>10.29</td>\n",
       "      <td>0.0</td>\n",
       "      <td>0.0</td>\n",
       "      <td>0.0</td>\n",
       "      <td>32</td>\n",
       "      <td>9</td>\n",
       "    </tr>\n",
       "    <tr>\n",
       "      <th>1996-02-17</th>\n",
       "      <td>13.87</td>\n",
       "      <td>0.0</td>\n",
       "      <td>NaN</td>\n",
       "      <td>NaN</td>\n",
       "      <td>43</td>\n",
       "      <td>23</td>\n",
       "    </tr>\n",
       "    <tr>\n",
       "      <th>1996-02-18</th>\n",
       "      <td>9.62</td>\n",
       "      <td>0.0</td>\n",
       "      <td>0.0</td>\n",
       "      <td>0.0</td>\n",
       "      <td>43</td>\n",
       "      <td>21</td>\n",
       "    </tr>\n",
       "    <tr>\n",
       "      <th>1996-02-19</th>\n",
       "      <td>9.17</td>\n",
       "      <td>0.0</td>\n",
       "      <td>NaN</td>\n",
       "      <td>NaN</td>\n",
       "      <td>66</td>\n",
       "      <td>26</td>\n",
       "    </tr>\n",
       "    <tr>\n",
       "      <th>1996-02-20</th>\n",
       "      <td>10.96</td>\n",
       "      <td>0.0</td>\n",
       "      <td>0.0</td>\n",
       "      <td>0.0</td>\n",
       "      <td>69</td>\n",
       "      <td>45</td>\n",
       "    </tr>\n",
       "  </tbody>\n",
       "</table>\n",
       "</div>"
      ],
      "text/plain": [
       "             AWND  PRCP  SNOW  SNWD  TMAX  TMIN\n",
       "DATE                                           \n",
       "1996-02-15  16.11   0.0   0.0   0.0    42    16\n",
       "1996-02-16  10.29   0.0   0.0   0.0    32     9\n",
       "1996-02-17  13.87   0.0   NaN   NaN    43    23\n",
       "1996-02-18   9.62   0.0   0.0   0.0    43    21\n",
       "1996-02-19   9.17   0.0   NaN   NaN    66    26\n",
       "1996-02-20  10.96   0.0   0.0   0.0    69    45"
      ]
     },
     "execution_count": 12,
     "metadata": {},
     "output_type": "execute_result"
    }
   ],
   "source": [
    "filtered_df = df.loc['1996-02-15':'1996-02-20']\n",
    "filtered_df"
   ]
  },
  {
   "cell_type": "code",
   "execution_count": 13,
   "id": "06cf4b62",
   "metadata": {},
   "outputs": [],
   "source": [
    "df.loc[df['SNOW'].isnull(),'SNOW']=df[\"SNOW\"].fillna(0)"
   ]
  },
  {
   "cell_type": "code",
   "execution_count": 14,
   "id": "fc00010f",
   "metadata": {},
   "outputs": [
    {
     "data": {
      "text/plain": [
       "AWND      0\n",
       "PRCP      0\n",
       "SNOW      0\n",
       "SNWD    135\n",
       "TMAX      0\n",
       "TMIN      0\n",
       "dtype: int64"
      ]
     },
     "execution_count": 14,
     "metadata": {},
     "output_type": "execute_result"
    }
   ],
   "source": [
    "df.apply(pd.isnull).sum()"
   ]
  },
  {
   "cell_type": "markdown",
   "id": "1d2c34e7",
   "metadata": {},
   "source": [
    "# SNWD"
   ]
  },
  {
   "cell_type": "code",
   "execution_count": 15,
   "id": "7f8b3643",
   "metadata": {},
   "outputs": [
    {
     "name": "stdout",
     "output_type": "stream",
     "text": [
      "            SNWD  Number\n",
      "0            0-1       7\n",
      "1            2-4       1\n",
      "2          5-100       0\n",
      "3  101 and above       1\n"
     ]
    },
    {
     "name": "stderr",
     "output_type": "stream",
     "text": [
      "/var/folders/f3/567zc1c91t7dv2rxdqfm1zkxrcmrzx/T/ipykernel_56908/1529939925.py:5: FutureWarning: The default of observed=False is deprecated and will be changed to True in a future version of pandas. Pass observed=False to retain current behavior or observed=True to adopt the future default and silence this warning.\n",
      "  out = b.groupby(b).size().reset_index(name='Number')\n"
     ]
    }
   ],
   "source": [
    "sd = df.SNWD.isna().groupby(df.SNWD.notna().cumsum()).sum()\n",
    "sd = sd[sd!=0]\n",
    "\n",
    "b = pd.cut(sd, bins=[0, 1, 4, 100, np.inf], labels=['0-1','2-4','5-100','101 and above'])\n",
    "out = b.groupby(b).size().reset_index(name='Number')\n",
    "print (out)"
   ]
  },
  {
   "cell_type": "code",
   "execution_count": 16,
   "id": "142420e2",
   "metadata": {
    "scrolled": false
   },
   "outputs": [
    {
     "data": {
      "text/plain": [
       "DATE\n",
       "1996-02-01      1\n",
       "1996-02-02      2\n",
       "1996-02-03      3\n",
       "1996-02-04      4\n",
       "1996-02-06      1\n",
       "1996-02-17      1\n",
       "1996-02-19      1\n",
       "1996-02-27      1\n",
       "1996-04-15      1\n",
       "1996-05-09      1\n",
       "1996-05-31      1\n",
       "1996-06-01      2\n",
       "1996-06-02      3\n",
       "1996-06-03      4\n",
       "1996-06-04      5\n",
       "1996-06-05      6\n",
       "1996-06-06      7\n",
       "1996-06-07      8\n",
       "1996-06-08      9\n",
       "1996-06-09     10\n",
       "1996-06-10     11\n",
       "1996-06-11     12\n",
       "1996-06-12     13\n",
       "1996-06-13     14\n",
       "1996-06-14     15\n",
       "1996-06-15     16\n",
       "1996-06-16     17\n",
       "1996-06-17     18\n",
       "1996-06-18     19\n",
       "1996-06-19     20\n",
       "1996-06-20     21\n",
       "1996-06-21     22\n",
       "1996-06-22     23\n",
       "1996-06-23     24\n",
       "1996-06-24     25\n",
       "1996-06-25     26\n",
       "1996-06-26     27\n",
       "1996-06-27     28\n",
       "1996-06-28     29\n",
       "1996-06-29     30\n",
       "1996-06-30     31\n",
       "1996-07-01     32\n",
       "1996-07-02     33\n",
       "1996-07-03     34\n",
       "1996-07-04     35\n",
       "1996-07-05     36\n",
       "1996-07-06     37\n",
       "1996-07-07     38\n",
       "1996-07-08     39\n",
       "1996-07-09     40\n",
       "1996-07-10     41\n",
       "1996-07-11     42\n",
       "1996-07-12     43\n",
       "1996-07-13     44\n",
       "1996-07-14     45\n",
       "1996-07-15     46\n",
       "1996-07-16     47\n",
       "1996-07-17     48\n",
       "1996-07-18     49\n",
       "1996-07-19     50\n",
       "1996-07-20     51\n",
       "1996-07-21     52\n",
       "1996-07-22     53\n",
       "1996-07-23     54\n",
       "1996-07-24     55\n",
       "1996-07-25     56\n",
       "1996-07-26     57\n",
       "1996-07-27     58\n",
       "1996-07-28     59\n",
       "1996-07-29     60\n",
       "1996-07-30     61\n",
       "1996-07-31     62\n",
       "1996-08-01     63\n",
       "1996-08-02     64\n",
       "1996-08-03     65\n",
       "1996-08-04     66\n",
       "1996-08-05     67\n",
       "1996-08-06     68\n",
       "1996-08-07     69\n",
       "1996-08-08     70\n",
       "1996-08-09     71\n",
       "1996-08-10     72\n",
       "1996-08-11     73\n",
       "1996-08-12     74\n",
       "1996-08-13     75\n",
       "1996-08-14     76\n",
       "1996-08-15     77\n",
       "1996-08-16     78\n",
       "1996-08-17     79\n",
       "1996-08-18     80\n",
       "1996-08-19     81\n",
       "1996-08-20     82\n",
       "1996-08-21     83\n",
       "1996-08-22     84\n",
       "1996-08-23     85\n",
       "1996-08-24     86\n",
       "1996-08-25     87\n",
       "1996-08-26     88\n",
       "1996-08-27     89\n",
       "1996-08-28     90\n",
       "1996-08-29     91\n",
       "1996-08-30     92\n",
       "1996-08-31     93\n",
       "1996-09-01     94\n",
       "1996-09-02     95\n",
       "1996-09-03     96\n",
       "1996-09-04     97\n",
       "1996-09-05     98\n",
       "1996-09-06     99\n",
       "1996-09-07    100\n",
       "1996-09-08    101\n",
       "1996-09-09    102\n",
       "1996-09-10    103\n",
       "1996-09-11    104\n",
       "1996-09-12    105\n",
       "1996-09-13    106\n",
       "1996-09-14    107\n",
       "1996-09-15    108\n",
       "1996-09-16    109\n",
       "1996-09-17    110\n",
       "1996-09-18    111\n",
       "1996-09-19    112\n",
       "1996-09-20    113\n",
       "1996-09-21    114\n",
       "1996-09-22    115\n",
       "1996-09-23    116\n",
       "1996-09-24    117\n",
       "1996-09-25    118\n",
       "1996-09-26    119\n",
       "1996-09-27    120\n",
       "1996-09-28    121\n",
       "1996-09-29    122\n",
       "1996-09-30    123\n",
       "1996-10-01    124\n",
       "2023-07-25      1\n",
       "Name: SNWD, dtype: int64"
      ]
     },
     "execution_count": 16,
     "metadata": {},
     "output_type": "execute_result"
    }
   ],
   "source": [
    "sd = df.SNWD.isna().groupby(df.SNWD.notna().cumsum()).cumsum() #cumsum for index location\n",
    "sd = sd[sd!=0]\n",
    "sd"
   ]
  },
  {
   "cell_type": "code",
   "execution_count": 17,
   "id": "33899be9",
   "metadata": {},
   "outputs": [
    {
     "data": {
      "text/html": [
       "<div>\n",
       "<style scoped>\n",
       "    .dataframe tbody tr th:only-of-type {\n",
       "        vertical-align: middle;\n",
       "    }\n",
       "\n",
       "    .dataframe tbody tr th {\n",
       "        vertical-align: top;\n",
       "    }\n",
       "\n",
       "    .dataframe thead th {\n",
       "        text-align: right;\n",
       "    }\n",
       "</style>\n",
       "<table border=\"1\" class=\"dataframe\">\n",
       "  <thead>\n",
       "    <tr style=\"text-align: right;\">\n",
       "      <th></th>\n",
       "      <th>AWND</th>\n",
       "      <th>PRCP</th>\n",
       "      <th>SNOW</th>\n",
       "      <th>SNWD</th>\n",
       "      <th>TMAX</th>\n",
       "      <th>TMIN</th>\n",
       "    </tr>\n",
       "    <tr>\n",
       "      <th>DATE</th>\n",
       "      <th></th>\n",
       "      <th></th>\n",
       "      <th></th>\n",
       "      <th></th>\n",
       "      <th></th>\n",
       "      <th></th>\n",
       "    </tr>\n",
       "  </thead>\n",
       "  <tbody>\n",
       "    <tr>\n",
       "      <th>1996-01-31</th>\n",
       "      <td>4.70</td>\n",
       "      <td>0.0</td>\n",
       "      <td>0.0</td>\n",
       "      <td>0.0</td>\n",
       "      <td>11</td>\n",
       "      <td>-3</td>\n",
       "    </tr>\n",
       "    <tr>\n",
       "      <th>1996-02-01</th>\n",
       "      <td>7.16</td>\n",
       "      <td>0.0</td>\n",
       "      <td>0.0</td>\n",
       "      <td>NaN</td>\n",
       "      <td>16</td>\n",
       "      <td>7</td>\n",
       "    </tr>\n",
       "    <tr>\n",
       "      <th>1996-02-02</th>\n",
       "      <td>11.41</td>\n",
       "      <td>0.0</td>\n",
       "      <td>0.0</td>\n",
       "      <td>NaN</td>\n",
       "      <td>7</td>\n",
       "      <td>-11</td>\n",
       "    </tr>\n",
       "    <tr>\n",
       "      <th>1996-02-03</th>\n",
       "      <td>5.59</td>\n",
       "      <td>0.0</td>\n",
       "      <td>0.0</td>\n",
       "      <td>NaN</td>\n",
       "      <td>7</td>\n",
       "      <td>-12</td>\n",
       "    </tr>\n",
       "    <tr>\n",
       "      <th>1996-02-04</th>\n",
       "      <td>11.86</td>\n",
       "      <td>0.0</td>\n",
       "      <td>0.0</td>\n",
       "      <td>NaN</td>\n",
       "      <td>23</td>\n",
       "      <td>-7</td>\n",
       "    </tr>\n",
       "    <tr>\n",
       "      <th>1996-02-05</th>\n",
       "      <td>7.83</td>\n",
       "      <td>0.0</td>\n",
       "      <td>0.0</td>\n",
       "      <td>0.0</td>\n",
       "      <td>35</td>\n",
       "      <td>15</td>\n",
       "    </tr>\n",
       "  </tbody>\n",
       "</table>\n",
       "</div>"
      ],
      "text/plain": [
       "             AWND  PRCP  SNOW  SNWD  TMAX  TMIN\n",
       "DATE                                           \n",
       "1996-01-31   4.70   0.0   0.0   0.0    11    -3\n",
       "1996-02-01   7.16   0.0   0.0   NaN    16     7\n",
       "1996-02-02  11.41   0.0   0.0   NaN     7   -11\n",
       "1996-02-03   5.59   0.0   0.0   NaN     7   -12\n",
       "1996-02-04  11.86   0.0   0.0   NaN    23    -7\n",
       "1996-02-05   7.83   0.0   0.0   0.0    35    15"
      ]
     },
     "execution_count": 17,
     "metadata": {},
     "output_type": "execute_result"
    }
   ],
   "source": [
    "filtered_df = df.loc['1996-01-31':'1996-02-05']\n",
    "pd.set_option('display.max_rows', None)\n",
    "filtered_df"
   ]
  },
  {
   "cell_type": "code",
   "execution_count": 18,
   "id": "8c0d136e",
   "metadata": {},
   "outputs": [],
   "source": [
    "df.loc[df['SNWD'].isnull(),'SNWD']=df[\"SNWD\"].fillna(0)"
   ]
  },
  {
   "cell_type": "code",
   "execution_count": 19,
   "id": "668caae1",
   "metadata": {},
   "outputs": [
    {
     "data": {
      "text/plain": [
       "AWND    0\n",
       "PRCP    0\n",
       "SNOW    0\n",
       "SNWD    0\n",
       "TMAX    0\n",
       "TMIN    0\n",
       "dtype: int64"
      ]
     },
     "execution_count": 19,
     "metadata": {},
     "output_type": "execute_result"
    }
   ],
   "source": [
    "df.apply(pd.isnull).sum()"
   ]
  },
  {
   "cell_type": "code",
   "execution_count": null,
   "id": "afc624db",
   "metadata": {},
   "outputs": [],
   "source": []
  }
 ],
 "metadata": {
  "kernelspec": {
   "display_name": "Python 3 (ipykernel)",
   "language": "python",
   "name": "python3"
  },
  "language_info": {
   "codemirror_mode": {
    "name": "ipython",
    "version": 3
   },
   "file_extension": ".py",
   "mimetype": "text/x-python",
   "name": "python",
   "nbconvert_exporter": "python",
   "pygments_lexer": "ipython3",
   "version": "3.11.5"
  },
  "varInspector": {
   "cols": {
    "lenName": 16,
    "lenType": 16,
    "lenVar": 40
   },
   "kernels_config": {
    "python": {
     "delete_cmd_postfix": "",
     "delete_cmd_prefix": "del ",
     "library": "var_list.py",
     "varRefreshCmd": "print(var_dic_list())"
    },
    "r": {
     "delete_cmd_postfix": ") ",
     "delete_cmd_prefix": "rm(",
     "library": "var_list.r",
     "varRefreshCmd": "cat(var_dic_list()) "
    }
   },
   "types_to_exclude": [
    "module",
    "function",
    "builtin_function_or_method",
    "instance",
    "_Feature"
   ],
   "window_display": false
  }
 },
 "nbformat": 4,
 "nbformat_minor": 5
}
