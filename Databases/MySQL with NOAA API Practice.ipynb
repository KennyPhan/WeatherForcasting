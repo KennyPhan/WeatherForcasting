{
 "cells": [
  {
   "cell_type": "code",
   "execution_count": null,
   "id": "f67d41e5",
   "metadata": {},
   "outputs": [],
   "source": [
    "# pip install mysql-connector-python\n",
    "# pip install sqlalchemy"
   ]
  },
  {
   "cell_type": "code",
   "execution_count": null,
   "id": "0340ed39",
   "metadata": {},
   "outputs": [],
   "source": [
    "import pandas as pd\n",
    "import sqlalchemy\n",
    "import mysql.connector"
   ]
  },
  {
   "cell_type": "code",
   "execution_count": null,
   "id": "f6cd42d5",
   "metadata": {},
   "outputs": [],
   "source": [
    "database_username = 'root'\n",
    "database_password = 'Password'\n",
    "database_ip       = 'localhost'\n",
    "database_name     = 'mydb'\n",
    "database_connection = sqlalchemy.create_engine('mysql+mysqlconnector://{0}:{1}@{2}/{3}'.\n",
    "                                               format(database_username, database_password, \n",
    "                                                      database_ip, database_name))"
   ]
  },
  {
   "cell_type": "code",
   "execution_count": null,
   "id": "0e213bc3",
   "metadata": {},
   "outputs": [],
   "source": [
    "mydb = mysql.connector.connect(\n",
    "    host=\"localhost\",\n",
    "    user=\"root\",\n",
    "    password=\"Young$123!\",\n",
    "    database=\"mydb\")"
   ]
  },
  {
   "cell_type": "code",
   "execution_count": null,
   "id": "0184b520",
   "metadata": {},
   "outputs": [],
   "source": [
    "mycursor = mydb.cursor()\n",
    "mycursor.execute(\"CREATE TABLE Weather (TMAX FLOAT(10), TMIN FLOAT(10))\")"
   ]
  },
  {
   "cell_type": "code",
   "execution_count": null,
   "id": "9fd37aa8",
   "metadata": {},
   "outputs": [],
   "source": [
    "import requests\n",
    "import pandas as pd\n",
    "start_date, end_date = '2020-01-01', '2020-01-31'\n",
    "start_goal = pd.date_range(start=start_date, end=end_date, freq='MS').strftime('%Y-%m-%d')\n",
    "end_goal = pd.date_range(start=start_date, end=end_date, freq='M') .strftime('%Y-%m-%d')\n",
    "\n",
    "token = \"Password\"\n",
    "url = \"https://www.ncdc.noaa.gov/cdo-web/api/v2/data\"\n",
    "data  = []\n",
    "for i in range(0,start_goal.size):\n",
    "    start = start_goal[i]\n",
    "    end = end_goal[i]\n",
    "    params = {\n",
    "        \"datasetid\": \"GHCND\",\n",
    "        \"stationid\": \"GHCND:USC00215638\",\n",
    "        \"units\": \"standard\",\n",
    "        \"startdate\": start,\n",
    "        \"enddate\": end,\n",
    "        \"limit\": 1_000}\n",
    "    response = requests.get(url, params=params, headers={\"Token\": token}).json()\n",
    "    data.append(response)\n",
    "    working_data = pd.json_normalize(data, record_path='results')"
   ]
  },
  {
   "cell_type": "code",
   "execution_count": null,
   "id": "205e9084",
   "metadata": {},
   "outputs": [],
   "source": [
    "df = working_data.drop(columns=['station', 'attributes'])\n",
    "df = df.pivot(index='date', columns='datatype', values='value')"
   ]
  },
  {
   "cell_type": "code",
   "execution_count": null,
   "id": "c181c3ef",
   "metadata": {},
   "outputs": [],
   "source": [
    "df2 = df.drop(columns=['TOBS','PRCP','SN31','SN33','SNOW','SNWD','SX31','SX33'])\n",
    "df2"
   ]
  },
  {
   "cell_type": "code",
   "execution_count": null,
   "id": "d6848abe",
   "metadata": {},
   "outputs": [],
   "source": [
    "df2.to_sql('Weather', con=database_connection, if_exists='append', index=False)"
   ]
  },
  {
   "cell_type": "code",
   "execution_count": null,
   "id": "33df4d28",
   "metadata": {},
   "outputs": [],
   "source": [
    "df2['date type'] = df2['date'].dt.strftime('%Y/%m/%d')"
   ]
  },
  {
   "cell_type": "code",
   "execution_count": null,
   "id": "8cb6170c",
   "metadata": {},
   "outputs": [],
   "source": [
    "mydb.close\n",
    "mycursor.close()"
   ]
  },
  {
   "cell_type": "code",
   "execution_count": null,
   "id": "e0ac36cd",
   "metadata": {},
   "outputs": [],
   "source": []
  }
 ],
 "metadata": {
  "kernelspec": {
   "display_name": "Python 3 (ipykernel)",
   "language": "python",
   "name": "python3"
  },
  "language_info": {
   "codemirror_mode": {
    "name": "ipython",
    "version": 3
   },
   "file_extension": ".py",
   "mimetype": "text/x-python",
   "name": "python",
   "nbconvert_exporter": "python",
   "pygments_lexer": "ipython3",
   "version": "3.11.5"
  },
  "varInspector": {
   "cols": {
    "lenName": 16,
    "lenType": 16,
    "lenVar": 40
   },
   "kernels_config": {
    "python": {
     "delete_cmd_postfix": "",
     "delete_cmd_prefix": "del ",
     "library": "var_list.py",
     "varRefreshCmd": "print(var_dic_list())"
    },
    "r": {
     "delete_cmd_postfix": ") ",
     "delete_cmd_prefix": "rm(",
     "library": "var_list.r",
     "varRefreshCmd": "cat(var_dic_list()) "
    }
   },
   "types_to_exclude": [
    "module",
    "function",
    "builtin_function_or_method",
    "instance",
    "_Feature"
   ],
   "window_display": false
  }
 },
 "nbformat": 4,
 "nbformat_minor": 5
}
